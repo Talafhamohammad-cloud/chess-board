{
 "cells": [
  {
   "cell_type": "code",
   "execution_count": 17,
   "source": [
    "import matplotlib.pyplot as plt\n",
    "import numpy as np\n",
    "% matplotlib inline\n"
   ],
   "outputs": [],
   "metadata": {}
  },
  {
   "cell_type": "code",
   "execution_count": 24,
   "source": [
    "class ChessBoard:\n",
    "     def __init__(self):\n",
    "        self.grid = np.ones((8, 8, 3), np.float64)\n",
    "        div = 1\n",
    "        for col in range(8):\n",
    "            for row in range(8):\n",
    "                div = 0 if div else 1\n",
    "                if row % 2 == div and col % 2 == div:\n",
    "                    self.grid[col][row] = np.array((0, 0, 0))\n",
    "     def add_red(self, row, col):\n",
    "        self.grid[row, col] = [1, .2, 0]\n",
    "\n",
    "     def add_blue(self, row, col):\n",
    "        self.grid[row, col] = [0, 1, 1]\n",
    "\n",
    "     def render(self):\n",
    "        plt.imshow(self.grid)\n",
    "\n",
    "     def is_under_attack(self,q1,q2):\n",
    "        if q1[0] == q2[0] or q1[1] == q2[1]:\n",
    "            return True\n",
    "        elif abs(q1[0] - q2[0]) == abs(q1[1] - q2[1]):\n",
    "            return True\n",
    "        else:\n",
    "            return False\n",
    "\n"
   ],
   "outputs": [],
   "metadata": {}
  },
  {
   "cell_type": "markdown",
   "source": [
    "Same Row:"
   ],
   "metadata": {}
  },
  {
   "cell_type": "code",
   "execution_count": 35,
   "source": [
    "def same_row():\n",
    "    board = ChessBoard\n",
    "    p1=board.add_red(2,2)\n",
    "    p2=board.add_blue(5,2)\n",
    "    board.render()\n",
    "    assert board.is_under_attack(p1,p2) == True\n",
    "    \n"
   ],
   "outputs": [],
   "metadata": {}
  }
 ],
 "metadata": {
  "orig_nbformat": 4,
  "language_info": {
   "name": "python",
   "version": "3.9.6",
   "mimetype": "text/x-python",
   "codemirror_mode": {
    "name": "ipython",
    "version": 3
   },
   "pygments_lexer": "ipython3",
   "nbconvert_exporter": "python",
   "file_extension": ".py"
  },
  "kernelspec": {
   "name": "python3",
   "display_name": "Python 3.9.6 64-bit ('.venv': poetry)"
  },
  "interpreter": {
   "hash": "c9b74e8dcfdd27ca78d7294ff1bd717325eecc8d78de17b42ee84f0f208c0651"
  }
 },
 "nbformat": 4,
 "nbformat_minor": 2
}