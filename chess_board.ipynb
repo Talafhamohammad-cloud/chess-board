{
 "cells": [
  {
   "cell_type": "code",
   "execution_count": null,
   "source": [
    "import matplotlib.pyplot as plt\n",
    "import numpy as np\n"
   ],
   "outputs": [],
   "metadata": {}
  },
  {
   "cell_type": "code",
   "execution_count": null,
   "source": [
    "class chessboard:\n",
    "    def __init__(self):\n",
    "        self.grid = np.ones((8, 8, 3), np.float64)\n",
    "        div = 1\n",
    "        for col in range(8):\n",
    "            for row in range(8):\n",
    "                div = 0 if div else 1\n",
    "                if row % 2 == div and col % 2 == div:\n",
    "                    self.grid[col][row] = np.array((0, 0, 0))\n",
    "    def add_blue(self, row, col):\n",
    "        self.grid[row][col] = (0, 0, 1)\n",
    "        self.q1 = [row, col]\n",
    "\n",
    "    def add_red(self, row, col):\n",
    "        self.grid[row][col] = (1, 0, 0)\n",
    "        self.q2 = [row, col]\n",
    "\n",
    "\n",
    "    def render(self):\n",
    "        plt.imshow(self.grid)\n",
    "\n",
    "    def is_under_attack(self):\n",
    "\n",
    "        if self.q1[0] ==self.q2[0] or self.q1[1]==self.q2[1]:\n",
    "            return True\n",
    "        if abs(self.q1[0]-self.q2[0]) ==abs(self.q1[1]-self.q2[1]):\n",
    "            return True\n",
    "\n",
    "        return False\n"
   ],
   "outputs": [],
   "metadata": {}
  },
  {
   "cell_type": "markdown",
   "source": [
    "# Same col:"
   ],
   "metadata": {}
  },
  {
   "cell_type": "code",
   "execution_count": null,
   "source": [
    "def same_col():\n",
    " board = chessboard()\n",
    " board.add_blue(2, 2)\n",
    " board.add_red(6, 2)\n",
    " assert board.is_under_attack() == True\n",
    " print(board.is_under_attack())\n",
    " board.render()\n",
    "same_col() \n"
   ],
   "outputs": [],
   "metadata": {}
  },
  {
   "cell_type": "markdown",
   "source": [
    "# same row:"
   ],
   "metadata": {}
  },
  {
   "cell_type": "code",
   "execution_count": null,
   "source": [
    "def same_row():\n",
    " board = chessboard()\n",
    " board.add_blue(3, 3)\n",
    " board.add_red(3, 5)\n",
    " assert board.is_under_attack() == True\n",
    " print(board.is_under_attack())\n",
    " board.render()\n",
    "same_row()\n"
   ],
   "outputs": [],
   "metadata": {}
  },
  {
   "cell_type": "markdown",
   "source": [
    "# same diagonal:"
   ],
   "metadata": {}
  },
  {
   "cell_type": "code",
   "execution_count": null,
   "source": [
    "def same_dia():\n",
    " board = chessboard()\n",
    " board.add_blue(2, 4)\n",
    " board.add_red(4, 6)\n",
    " assert board.is_under_attack() == True\n",
    " print(board.is_under_attack())\n",
    " board.render()\n",
    "same_dia()\n"
   ],
   "outputs": [],
   "metadata": {}
  },
  {
   "cell_type": "markdown",
   "source": [
    "# not under attack:"
   ],
   "metadata": {}
  },
  {
   "cell_type": "code",
   "execution_count": null,
   "source": [
    "def not_attacked():\n",
    " board = chessboard()\n",
    " board.add_blue(1, 1)\n",
    " board.add_red(5, 2)\n",
    " assert board.is_under_attack() == False\n",
    " print(board.is_under_attack())\n",
    " board.render()\n",
    "not_attacked()\n"
   ],
   "outputs": [],
   "metadata": {}
  }
 ],
 "metadata": {
  "orig_nbformat": 4,
  "language_info": {
   "name": "python",
   "version": "3.9.6",
   "mimetype": "text/x-python",
   "codemirror_mode": {
    "name": "ipython",
    "version": 3
   },
   "pygments_lexer": "ipython3",
   "nbconvert_exporter": "python",
   "file_extension": ".py"
  },
  "kernelspec": {
   "name": "python3",
   "display_name": "Python 3.9.6 64-bit ('.venv': poetry)"
  },
  "interpreter": {
   "hash": "c9b74e8dcfdd27ca78d7294ff1bd717325eecc8d78de17b42ee84f0f208c0651"
  }
 },
 "nbformat": 4,
 "nbformat_minor": 2
}